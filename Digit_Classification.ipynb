{
  "nbformat": 4,
  "nbformat_minor": 0,
  "metadata": {
    "colab": {
      "provenance": []
    },
    "kernelspec": {
      "name": "python3",
      "display_name": "Python 3"
    },
    "language_info": {
      "name": "python"
    }
  },
  "cells": [
    {
      "cell_type": "markdown",
      "source": [
        "Necessary Libraries"
      ],
      "metadata": {
        "id": "4MjDctg-8rGi"
      }
    },
    {
      "cell_type": "code",
      "source": [
        "import numpy as np\n",
        "import pandas as pd\n",
        "from sklearn.model_selection import train_test_split\n",
        "from sklearn.svm import SVC\n",
        "from sklearn.metrics import confusion_matrix\n",
        "from sklearn.model_selection import validation_curve\n",
        "from sklearn.model_selection import KFold\n",
        "from sklearn.model_selection import cross_val_score\n",
        "from sklearn.model_selection import GridSearchCV\n",
        "import matplotlib.pyplot as plt\n",
        "import seaborn as sns"
      ],
      "metadata": {
        "id": "to_Qo1Rk8NI8"
      },
      "execution_count": null,
      "outputs": []
    },
    {
      "cell_type": "code",
      "source": [
        "from google.colab import drive\n",
        "drive.mount('/content/drive')"
      ],
      "metadata": {
        "colab": {
          "base_uri": "https://localhost:8080/"
        },
        "id": "12gE-CUNIrgB",
        "outputId": "8ca43e3e-0048-4330-d5a9-7a974ff31b76"
      },
      "execution_count": null,
      "outputs": [
        {
          "output_type": "stream",
          "name": "stdout",
          "text": [
            "Mounted at /content/drive\n"
          ]
        }
      ]
    },
    {
      "cell_type": "markdown",
      "source": [
        "Loading  Data"
      ],
      "metadata": {
        "id": "nxm4eSd78vWj"
      }
    },
    {
      "cell_type": "code",
      "source": [
        "train_data = pd.read_csv(\"/content/drive/MyDrive/Digit Classification/train.csv\")\n",
        "test_data = pd.read_csv(\"/content/drive/MyDrive/Digit Classification/test.csv\")"
      ],
      "metadata": {
        "id": "pHHRbHtU8pXc"
      },
      "execution_count": null,
      "outputs": []
    },
    {
      "cell_type": "code",
      "source": [
        "print(train_data.shape)\n",
        "print(test_data.shape)"
      ],
      "metadata": {
        "colab": {
          "base_uri": "https://localhost:8080/"
        },
        "id": "sIlE5vt7834M",
        "outputId": "2e0711a6-1951-4368-9161-62b0515dd690"
      },
      "execution_count": null,
      "outputs": [
        {
          "output_type": "stream",
          "name": "stdout",
          "text": [
            "(42000, 785)\n",
            "(28000, 784)\n"
          ]
        }
      ]
    },
    {
      "cell_type": "code",
      "source": [
        "test_data.info()"
      ],
      "metadata": {
        "colab": {
          "base_uri": "https://localhost:8080/"
        },
        "id": "4tax0dHj9ewR",
        "outputId": "205564fb-e0c7-4718-891d-fca9b8ab78e6"
      },
      "execution_count": null,
      "outputs": [
        {
          "output_type": "stream",
          "name": "stdout",
          "text": [
            "<class 'pandas.core.frame.DataFrame'>\n",
            "RangeIndex: 28000 entries, 0 to 27999\n",
            "Columns: 784 entries, pixel0 to pixel783\n",
            "dtypes: int64(784)\n",
            "memory usage: 167.5 MB\n"
          ]
        }
      ]
    },
    {
      "cell_type": "markdown",
      "source": [
        "Number and count of classifications"
      ],
      "metadata": {
        "id": "MsOKHx2H9m3v"
      }
    },
    {
      "cell_type": "code",
      "source": [
        "order = list(np.sort(train_data['label'].unique()))\n",
        "print(order)\n",
        "sns.countplot(train_data[\"label\"])"
      ],
      "metadata": {
        "colab": {
          "base_uri": "https://localhost:8080/",
          "height": 368
        },
        "id": "a3jK03_19pas",
        "outputId": "b94eedc0-9a1d-445b-c1ef-ee4d14d84486"
      },
      "execution_count": null,
      "outputs": [
        {
          "output_type": "stream",
          "name": "stdout",
          "text": [
            "[0, 1, 2, 3, 4, 5, 6, 7, 8, 9]\n"
          ]
        },
        {
          "output_type": "stream",
          "name": "stderr",
          "text": [
            "/usr/local/lib/python3.7/dist-packages/seaborn/_decorators.py:43: FutureWarning: Pass the following variable as a keyword arg: x. From version 0.12, the only valid positional argument will be `data`, and passing other arguments without an explicit keyword will result in an error or misinterpretation.\n",
            "  FutureWarning\n"
          ]
        },
        {
          "output_type": "execute_result",
          "data": {
            "text/plain": [
              "<matplotlib.axes._subplots.AxesSubplot at 0x7f7efc5ba210>"
            ]
          },
          "metadata": {},
          "execution_count": 6
        },
        {
          "output_type": "display_data",
          "data": {
            "text/plain": [
              "<Figure size 432x288 with 1 Axes>"
            ],
            "image/png": "[encoded data removed]"
          },
          "metadata": {
            "needs_background": "light"
          }
        }
      ]
    },
    {
      "cell_type": "code",
      "source": [
        "train_data.label.astype('category').value_counts()"
      ],
      "metadata": {
        "colab": {
          "base_uri": "https://localhost:8080/"
        },
        "id": "fury4Qs59s6p",
        "outputId": "ab204d24-4f1b-42dc-ac64-1a58e7165ed1"
      },
      "execution_count": null,
      "outputs": [
        {
          "output_type": "execute_result",
          "data": {
            "text/plain": [
              "1    4684\n",
              "7    4401\n",
              "3    4351\n",
              "9    4188\n",
              "2    4177\n",
              "6    4137\n",
              "0    4132\n",
              "4    4072\n",
              "8    4063\n",
              "5    3795\n",
              "Name: label, dtype: int64"
            ]
          },
          "metadata": {},
          "execution_count": 7
        }
      ]
    },
    {
      "cell_type": "markdown",
      "source": [
        "Rescaling the features"
      ],
      "metadata": {
        "id": "5pgxciEHUi9w"
      }
    },
    {
      "cell_type": "code",
      "source": [
        "y = train_data['label']\n",
        "## Dropping the variable 'label' from X variable \n",
        "X = train_data.drop(columns = 'label')\n",
        "X = X/255.0\n",
        "test_data = test_data/255.0\n",
        "\n"
      ],
      "metadata": {
        "id": "6-fbct9HUl3x"
      },
      "execution_count": null,
      "outputs": []
    },
    {
      "cell_type": "markdown",
      "source": [
        "Scaling the features"
      ],
      "metadata": {
        "id": "LVuFz95eUSHz"
      }
    },
    {
      "cell_type": "code",
      "source": [
        "from sklearn.preprocessing import scale\n",
        "X_scaled = scale(X)\n",
        "X_train, X_test, y_train, y_test = train_test_split(X_scaled, y, test_size = 0.2, train_size = 0.8 ,random_state = 10)"
      ],
      "metadata": {
        "id": "wOJjqTkEUUU1"
      },
      "execution_count": null,
      "outputs": []
    },
    {
      "cell_type": "markdown",
      "source": [
        "Linear SVM"
      ],
      "metadata": {
        "id": "uO5G3r0SU9Tc"
      }
    },
    {
      "cell_type": "code",
      "source": [
        "model_linear = SVC(kernel='linear')\n",
        "model_linear.fit(X_train, y_train)\n",
        "y_pred = model_linear.predict(X_test)"
      ],
      "metadata": {
        "id": "jG02G43-U-kc"
      },
      "execution_count": null,
      "outputs": []
    },
    {
      "cell_type": "code",
      "source": [
        "from sklearn import metrics\n",
        "print(\"Accuracy:\", metrics.accuracy_score(y_true=y_test, y_pred=y_pred))"
      ],
      "metadata": {
        "colab": {
          "base_uri": "https://localhost:8080/"
        },
        "id": "hTRT4f0GVxNn",
        "outputId": "c0d2dc71-52a5-4eff-f652-d651f12fd09e"
      },
      "execution_count": null,
      "outputs": [
        {
          "output_type": "stream",
          "name": "stdout",
          "text": [
            "Accuracy: 0.9188095238095239\n"
          ]
        }
      ]
    },
    {
      "cell_type": "code",
      "source": [
        "print(\"Accuracy:\", metrics.accuracy_score(y_true=y_test, y_pred=y_pred),\"\\n\")\n",
        "print(\"Classification Report \\n\")\n",
        "print(classification_report(y_test, y_pred))"
      ],
      "metadata": {
        "colab": {
          "base_uri": "https://localhost:8080/"
        },
        "id": "NVXJ65S1hwrp",
        "outputId": "edafa4e2-b37e-4eec-d15e-294caf6662d5"
      },
      "execution_count": null,
      "outputs": [
        {
          "output_type": "stream",
          "name": "stdout",
          "text": [
            "Accuracy: 0.9188095238095239 \n",
            "\n",
            "Classification Report \n",
            "\n",
            "              precision    recall  f1-score   support\n",
            "\n",
            "           0       0.95      0.97      0.96       796\n",
            "           1       0.95      0.98      0.96       946\n",
            "           2       0.89      0.91      0.90       856\n",
            "           3       0.88      0.91      0.89       856\n",
            "           4       0.91      0.95      0.93       826\n",
            "           5       0.87      0.87      0.87       773\n",
            "           6       0.95      0.94      0.95       787\n",
            "           7       0.94      0.94      0.94       869\n",
            "           8       0.92      0.83      0.87       836\n",
            "           9       0.93      0.88      0.90       855\n",
            "\n",
            "    accuracy                           0.92      8400\n",
            "   macro avg       0.92      0.92      0.92      8400\n",
            "weighted avg       0.92      0.92      0.92      8400\n",
            "\n"
          ]
        }
      ]
    },
    {
      "cell_type": "markdown",
      "source": [
        "Confusion Matrix - SVM"
      ],
      "metadata": {
        "id": "XfSc5kumYFcA"
      }
    },
    {
      "cell_type": "code",
      "source": [
        "# Confusion Matrix\n",
        "from sklearn.metrics import confusion_matrix\n",
        "print(metrics.confusion_matrix(y_true=y_test, y_pred=y_pred))"
      ],
      "metadata": {
        "colab": {
          "base_uri": "https://localhost:8080/"
        },
        "id": "jhkmCe7tWO2_",
        "outputId": "c7e7848c-78d5-49bd-8fbe-f70bef2d2ce5"
      },
      "execution_count": null,
      "outputs": [
        {
          "output_type": "stream",
          "name": "stdout",
          "text": [
            "[[774   0   0   0   5   7   7   1   2   0]\n",
            " [  0 930   2   2   1   1   0   3   7   0]\n",
            " [ 10  14 778  16   6   6   6   6  11   3]\n",
            " [  6   2  25 776   0  29   1   6  10   1]\n",
            " [  2   1  11   3 783   2   2   2   0  20]\n",
            " [  5   8  11  30   4 675  11   1  19   9]\n",
            " [ 10   1  14   0   8  11 743   0   0   0]\n",
            " [  3   3  12   4  13   0   0 818   1  15]\n",
            " [  5  21  20  40   4  36   8   2 692   8]\n",
            " [  3   3   5  14  32   6   1  35   7 749]]\n"
          ]
        }
      ]
    },
    {
      "cell_type": "code",
      "source": [
        "conf_mat=metrics.confusion_matrix(y_true=y_test, y_pred=y_pred)"
      ],
      "metadata": {
        "id": "Wkk9tKrayGcW"
      },
      "execution_count": null,
      "outputs": []
    },
    {
      "cell_type": "code",
      "source": [
        "import itertools\n",
        "def plot_confusion_matrix(cm,classes,normalize=True,title='Confusion matrix',cmap=plt.cm.Reds):\n",
        "    plt.imshow(cm,interpolation='nearest',cmap=cmap)\n",
        "    plt.title(title)\n",
        "    plt.colorbar()\n",
        "    tick_marks=np.arange(len(classes))\n",
        "    plt.xticks(tick_marks,classes,rotation=45)\n",
        "    plt.yticks(tick_marks,classes)\n",
        "    \n",
        "    if normalize:\n",
        "        cm=cm.astype('float')/cm.sum(axis=1)[:,np.newaxis]\n",
        "        cm=cm.round(2)\n",
        "    else:\n",
        "        cm=cm\n",
        "    \n",
        "    thresh=cm.max()/2.\n",
        "    for i,j in itertools.product(range(cm.shape[0]), range(cm.shape[1])):\n",
        "        plt.text(j,i,cm[i,j],horizontalalignment='center',color=\"white\" if cm[i,j]>thresh else \"black\")\n",
        "    \n",
        "    plt.tight_layout()\n",
        "    plt.ylabel('True label')\n",
        "    plt.xlabel('Predicted label')"
      ],
      "metadata": {
        "id": "9K08sPnWyGqA"
      },
      "execution_count": null,
      "outputs": []
    },
    {
      "cell_type": "code",
      "source": [
        "np.set_printoptions(precision=2)\n",
        "figl=plt.figure(figsize=(7,6))\n",
        "plot_confusion_matrix(conf_mat,classes=[0,1,2,3,4,5,6,7,8,9], title=\"Confusion matrix\")\n",
        "plt.show()"
      ],
      "metadata": {
        "id": "A820bvpZyG0C",
        "colab": {
          "base_uri": "https://localhost:8080/",
          "height": 455
        },
        "outputId": "4ea747e9-403f-4df6-fd0d-6c3bf3b8d9a4"
      },
      "execution_count": null,
      "outputs": [
        {
          "output_type": "display_data",
          "data": {
            "text/plain": [
              "<Figure size 504x432 with 2 Axes>"
            ],
            "image/png": "[encoded data removed]"
          },
          "metadata": {
            "needs_background": "light"
          }
        }
      ]
    },
    {
      "cell_type": "code",
      "source": [
        "model = SVC(C=10, gamma=0.001, kernel=\"rbf\")\n",
        "\n",
        "model.fit(X_train, y_train)\n",
        "y_pred = model.predict(X_test)\n",
        "\n",
        "# metrics\n",
        "print(\"accuracy\", metrics.accuracy_score(y_test, y_pred), \"\\n\")\n",
        "print(metrics.confusion_matrix(y_test, y_pred), \"\\n\")"
      ],
      "metadata": {
        "colab": {
          "base_uri": "https://localhost:8080/"
        },
        "id": "w5_r7j5sXWbj",
        "outputId": "a10648c8-b45a-4a41-cb56-fd6e1a4d153b"
      },
      "execution_count": null,
      "outputs": [
        {
          "output_type": "stream",
          "name": "stdout",
          "text": [
            "accuracy 0.9678571428571429 \n",
            "\n",
            "[[781   0   3   1   0   1   4   3   3   0]\n",
            " [  0 934   4   2   2   0   1   3   0   0]\n",
            " [  4   3 828   4   3   1   0  10   3   0]\n",
            " [  1   0   8 821   0  11   0  11   3   1]\n",
            " [  1   1   2   0 807   1   4   3   1   6]\n",
            " [  0   0   1  10   1 745   4   5   6   1]\n",
            " [  5   1   2   0   2   2 771   4   0   0]\n",
            " [  1   2   6   2   4   0   1 845   0   8]\n",
            " [  3   5   9   7   5   7   5   3 787   5]\n",
            " [  1   0   1  11   7   2   1  19   2 811]] \n",
            "\n"
          ]
        }
      ]
    },
    {
      "cell_type": "code",
      "source": [
        "print(\"Accuracy: \", metrics.accuracy_score(y_test, y_pred), \"\\n\")\n",
        "print(\"Classification Report \\n\")\n",
        "print(classification_report(y_test, y_pred))"
      ],
      "metadata": {
        "colab": {
          "base_uri": "https://localhost:8080/"
        },
        "id": "-3p1p91NkCyJ",
        "outputId": "67e6fd08-840b-4854-d6cf-3034d8262f76"
      },
      "execution_count": null,
      "outputs": [
        {
          "output_type": "stream",
          "name": "stdout",
          "text": [
            "Accuracy:  0.9678571428571429 \n",
            "\n",
            "Classification Report \n",
            "\n",
            "              precision    recall  f1-score   support\n",
            "\n",
            "           0       0.98      0.98      0.98       796\n",
            "           1       0.99      0.99      0.99       946\n",
            "           2       0.96      0.97      0.96       856\n",
            "           3       0.96      0.96      0.96       856\n",
            "           4       0.97      0.98      0.97       826\n",
            "           5       0.97      0.96      0.97       773\n",
            "           6       0.97      0.98      0.98       787\n",
            "           7       0.93      0.97      0.95       869\n",
            "           8       0.98      0.94      0.96       836\n",
            "           9       0.97      0.95      0.96       855\n",
            "\n",
            "    accuracy                           0.97      8400\n",
            "   macro avg       0.97      0.97      0.97      8400\n",
            "weighted avg       0.97      0.97      0.97      8400\n",
            "\n"
          ]
        }
      ]
    },
    {
      "cell_type": "code",
      "source": [
        "import itertools\n",
        "def plot_confusion_matrix(cm,classes,normalize=True,title='Confusion matrix',cmap=plt.cm.Reds):\n",
        "    plt.imshow(cm,interpolation='nearest',cmap=cmap)\n",
        "    plt.title(title)\n",
        "    plt.colorbar()\n",
        "    tick_marks=np.arange(len(classes))\n",
        "    plt.xticks(tick_marks,classes,rotation=45)\n",
        "    plt.yticks(tick_marks,classes)\n",
        "    \n",
        "    if normalize:\n",
        "        cm=cm.astype('float')/cm.sum(axis=1)[:,np.newaxis]\n",
        "        cm=cm.round(2)\n",
        "    else:\n",
        "        cm=cm\n",
        "    \n",
        "    thresh=cm.max()/2.\n",
        "    for i,j in itertools.product(range(cm.shape[0]), range(cm.shape[1])):\n",
        "        plt.text(j,i,cm[i,j],horizontalalignment='center',color=\"white\" if cm[i,j]>thresh else \"black\")\n",
        "    \n",
        "    plt.tight_layout()\n",
        "    plt.ylabel('True label')\n",
        "    plt.xlabel('Predicted label')"
      ],
      "metadata": {
        "id": "xHecz2UdjqPD"
      },
      "execution_count": null,
      "outputs": []
    },
    {
      "cell_type": "code",
      "source": [
        "conf_mat=metrics.confusion_matrix(y_true=y_test, y_pred=y_pred)"
      ],
      "metadata": {
        "id": "ANWK8TORlUXM"
      },
      "execution_count": null,
      "outputs": []
    },
    {
      "cell_type": "code",
      "source": [
        "np.set_printoptions(precision=2)\n",
        "figl=plt.figure(figsize=(7,6))\n",
        "plot_confusion_matrix(conf_mat,classes=[0,1,2,3,4,5,6,7,8,9], title=\"Confusion matrix\")\n",
        "plt.show()"
      ],
      "metadata": {
        "colab": {
          "base_uri": "https://localhost:8080/",
          "height": 455
        },
        "id": "O2P1thstlBot",
        "outputId": "25939460-b98b-4c61-accf-18595475f6b1"
      },
      "execution_count": null,
      "outputs": [
        {
          "output_type": "display_data",
          "data": {
            "text/plain": [
              "<Figure size 504x432 with 2 Axes>"
            ],
            "image/png": "[encoded data removed]"
          },
          "metadata": {
            "needs_background": "light"
          }
        }
      ]
    },
    {
      "cell_type": "markdown",
      "source": [
        "Random Forest"
      ],
      "metadata": {
        "id": "rdK3c7UuXyy1"
      }
    },
    {
      "cell_type": "code",
      "source": [
        "from sklearn.ensemble import RandomForestClassifier\n",
        "from sklearn.metrics import classification_report, confusion_matrix\n",
        "rf=RandomForestClassifier(n_estimators=100)\n",
        "rf.fit(X_train,y_train)"
      ],
      "metadata": {
        "colab": {
          "base_uri": "https://localhost:8080/"
        },
        "id": "5Y0eW8csX0R6",
        "outputId": "9b3b81fb-4c76-4e94-9c54-d0c10db1f0de"
      },
      "execution_count": null,
      "outputs": [
        {
          "output_type": "execute_result",
          "data": {
            "text/plain": [
              "RandomForestClassifier()"
            ]
          },
          "metadata": {},
          "execution_count": 46
        }
      ]
    },
    {
      "cell_type": "code",
      "source": [
        "pred=rf.predict(X_test)\n",
        "print(\"Accuracy: \", metrics.accuracy_score(y_test, pred), \"\\n\")\n",
        "print(\"Classification Report\\n\")\n",
        "print(classification_report(y_test, pred))\n",
        "print(confusion_matrix(y_test, pred))"
      ],
      "metadata": {
        "colab": {
          "base_uri": "https://localhost:8080/"
        },
        "id": "9pVPRHQoYL6Z",
        "outputId": "1632d469-d5c0-4d51-98a6-fa16e17797b9"
      },
      "execution_count": null,
      "outputs": [
        {
          "output_type": "stream",
          "name": "stdout",
          "text": [
            "Accuracy:  0.9671428571428572 \n",
            "\n",
            "Classification Report\n",
            "\n",
            "              precision    recall  f1-score   support\n",
            "\n",
            "           0       0.98      0.98      0.98       796\n",
            "           1       0.98      0.98      0.98       946\n",
            "           2       0.95      0.96      0.96       856\n",
            "           3       0.96      0.96      0.96       856\n",
            "           4       0.95      0.99      0.97       826\n",
            "           5       0.96      0.96      0.96       773\n",
            "           6       0.97      0.98      0.98       787\n",
            "           7       0.98      0.97      0.97       869\n",
            "           8       0.96      0.95      0.95       836\n",
            "           9       0.97      0.94      0.96       855\n",
            "\n",
            "    accuracy                           0.97      8400\n",
            "   macro avg       0.97      0.97      0.97      8400\n",
            "weighted avg       0.97      0.97      0.97      8400\n",
            "\n",
            "[[783   0   0   1   2   1   3   0   5   1]\n",
            " [  0 930   7   3   2   0   1   2   1   0]\n",
            " [  3   2 824   0  10   0   3   6   7   1]\n",
            " [  3   1  10 821   0  10   1   2   7   1]\n",
            " [  1   1   1   0 816   0   2   1   0   4]\n",
            " [  3   1   1   9   2 739   5   2   7   4]\n",
            " [  4   1   1   0   2   3 774   0   2   0]\n",
            " [  0   5  10   1   6   2   0 839   0   6]\n",
            " [  0   6   9   6   5   9   4   0 791   6]\n",
            " [  4   1   2  15  10   2   1   8   5 807]]\n"
          ]
        }
      ]
    },
    {
      "cell_type": "code",
      "source": [
        "import itertools\n",
        "def plot_confusion_matrix(cm,classes,normalize=True,title='Confusion matrix',cmap=plt.cm.Reds):\n",
        "    plt.imshow(cm,interpolation='nearest',cmap=cmap)\n",
        "    plt.title(title)\n",
        "    plt.colorbar()\n",
        "    tick_marks=np.arange(len(classes))\n",
        "    plt.xticks(tick_marks,classes,rotation=45)\n",
        "    plt.yticks(tick_marks,classes)\n",
        "    \n",
        "    if normalize:\n",
        "        cm=cm.astype('float')/cm.sum(axis=1)[:,np.newaxis]\n",
        "        cm=cm.round(2)\n",
        "    else:\n",
        "        cm=cm\n",
        "    \n",
        "    thresh=cm.max()/2.\n",
        "    for i,j in itertools.product(range(cm.shape[0]), range(cm.shape[1])):\n",
        "        plt.text(j,i,cm[i,j],horizontalalignment='center',color=\"white\" if cm[i,j]>thresh else \"black\")\n",
        "    \n",
        "    plt.tight_layout()\n",
        "    plt.ylabel('True label')\n",
        "    plt.xlabel('Predicted label')"
      ],
      "metadata": {
        "id": "2EA61G5Epsg6"
      },
      "execution_count": null,
      "outputs": []
    },
    {
      "cell_type": "code",
      "source": [
        "conf_matt=metrics.confusion_matrix(y_true=y_test, y_pred=pred)"
      ],
      "metadata": {
        "id": "V-VCW4C2p3oX"
      },
      "execution_count": null,
      "outputs": []
    },
    {
      "cell_type": "code",
      "source": [
        "np.set_printoptions(precision=2)\n",
        "figl=plt.figure(figsize=(7,6))\n",
        "plot_confusion_matrix(conf_matt,classes=[0,1,2,3,4,5,6,7,8,9], title=\"Confusion matrix\")\n",
        "plt.show()"
      ],
      "metadata": {
        "colab": {
          "base_uri": "https://localhost:8080/",
          "height": 455
        },
        "id": "qlb0pGDbpga_",
        "outputId": "aa3e2830-ea92-48e0-f3c2-925e53dca2f0"
      },
      "execution_count": null,
      "outputs": [
        {
          "output_type": "display_data",
          "data": {
            "text/plain": [
              "<Figure size 504x432 with 2 Axes>"
            ],
            "image/png": "[encoded data removed]"
          },
          "metadata": {
            "needs_background": "light"
          }
        }
      ]
    },
    {
      "cell_type": "markdown",
      "source": [
        "Cross Validation"
      ],
      "metadata": {
        "id": "rkVHUROWZzJ2"
      }
    },
    {
      "cell_type": "code",
      "source": [
        "score = cross_val_score(rf, X_test,y_test)\n",
        "print (np.max(score))"
      ],
      "metadata": {
        "colab": {
          "base_uri": "https://localhost:8080/"
        },
        "id": "_64dzelfZyK2",
        "outputId": "cd803982-c148-4e22-9281-97fbc4be355c"
      },
      "execution_count": null,
      "outputs": [
        {
          "output_type": "stream",
          "name": "stdout",
          "text": [
            "0.95\n"
          ]
        }
      ]
    }
  ]
}